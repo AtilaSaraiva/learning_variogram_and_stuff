{
 "cells": [
  {
   "cell_type": "code",
   "execution_count": 1,
   "id": "689ba229",
   "metadata": {},
   "outputs": [],
   "source": [
    "import numpy as np\n",
    "from matplotlib import pyplot as plt"
   ]
  },
  {
   "cell_type": "code",
   "execution_count": 2,
   "id": "c0205631",
   "metadata": {},
   "outputs": [],
   "source": [
    "points = [np.array([75, 50]), np.array([75, -75])]\n",
    "estimationPoint = np.array([0, 0])\n",
    "\n",
    "grades = np.array([0.87, 1.72])"
   ]
  },
  {
   "cell_type": "code",
   "execution_count": 3,
   "id": "41720bd2",
   "metadata": {},
   "outputs": [
    {
     "name": "stdout",
     "output_type": "stream",
     "text": [
      "h = \n",
      " [ 90.13878189 106.06601718]\n",
      "H = \n",
      " [[  0. 125.]\n",
      " [125.   0.]]\n"
     ]
    }
   ],
   "source": [
    "def distanceBetweenPoints (a, b):\n",
    "    return np.sqrt((a[0] - b[0])**2 + (a[1] - b[1])**2)\n",
    "\n",
    "h = np.zeros(2)\n",
    "H = np.zeros((2, 2))\n",
    "\n",
    "h[0] = distanceBetweenPoints(estimationPoint, points[0])\n",
    "h[1] = distanceBetweenPoints(estimationPoint, points[1])\n",
    "\n",
    "H[0, 0] = distanceBetweenPoints(points[0], points[0])\n",
    "H[1, 1] = distanceBetweenPoints(points[1], points[1])\n",
    "H[1, 0] = distanceBetweenPoints(points[1], points[0])\n",
    "H[0, 1] = distanceBetweenPoints(points[0], points[1])\n",
    "\n",
    "print(\"h = \\n\", h)\n",
    "print(\"H = \\n\",H)"
   ]
  },
  {
   "cell_type": "code",
   "execution_count": 4,
   "id": "4f5bdcca",
   "metadata": {},
   "outputs": [],
   "source": [
    "def covarianceFunction(h):\n",
    "    return np.exp(-3. * h/250.)"
   ]
  },
  {
   "cell_type": "code",
   "execution_count": 5,
   "id": "51619b72",
   "metadata": {},
   "outputs": [
    {
     "name": "stdout",
     "output_type": "stream",
     "text": [
      "C_ij = \n",
      " [[1.         0.22313016]\n",
      " [0.22313016 1.        ]]\n",
      "C_i0 = \n",
      " [0.33903044 0.28004858]\n"
     ]
    }
   ],
   "source": [
    "C_i0 = covarianceFunction(h)\n",
    "C_ij = covarianceFunction(H)\n",
    "\n",
    "print(\"C_ij = \\n\", C_ij)\n",
    "print(\"C_i0 = \\n\", C_i0)"
   ]
  },
  {
   "cell_type": "code",
   "execution_count": 6,
   "id": "1a6b1be2",
   "metadata": {
    "scrolled": true
   },
   "outputs": [
    {
     "name": "stdout",
     "output_type": "stream",
     "text": [
      "weights =  [0.29103283 0.21511037]\n"
     ]
    }
   ],
   "source": [
    "weights = np.linalg.solve(C_ij, C_i0)\n",
    "print(\"weights = \",weights)"
   ]
  },
  {
   "cell_type": "code",
   "execution_count": 7,
   "id": "45679baf",
   "metadata": {},
   "outputs": [
    {
     "name": "stdout",
     "output_type": "stream",
     "text": [
      "estimate =  0.6231884037732431\n"
     ]
    }
   ],
   "source": [
    "estimate = np.dot(grades, weights)\n",
    "print(\"estimate = \", estimate)"
   ]
  }
 ],
 "metadata": {
  "kernelspec": {
   "display_name": "Python 3",
   "language": "python",
   "name": "python3"
  },
  "language_info": {
   "codemirror_mode": {
    "name": "ipython",
    "version": 3
   },
   "file_extension": ".py",
   "mimetype": "text/x-python",
   "name": "python",
   "nbconvert_exporter": "python",
   "pygments_lexer": "ipython3",
   "version": "3.10.7"
  }
 },
 "nbformat": 4,
 "nbformat_minor": 5
}
