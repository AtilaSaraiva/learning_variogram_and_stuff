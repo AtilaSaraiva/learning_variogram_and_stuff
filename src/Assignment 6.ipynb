{
 "cells": [
  {
   "cell_type": "markdown",
   "id": "87c31875",
   "metadata": {},
   "source": [
    "# Assignment 6 - Simple krigging\n",
    "\n",
    "In this notebook I perform the calculations for question 3 of the assignment."
   ]
  },
  {
   "cell_type": "code",
   "execution_count": 1,
   "id": "689ba229",
   "metadata": {},
   "outputs": [],
   "source": [
    "import numpy as np\n",
    "from matplotlib import pyplot as plt"
   ]
  },
  {
   "cell_type": "markdown",
   "id": "ede37e6e",
   "metadata": {},
   "source": [
    "First I input the data given in the question. `points`stores the $(x, y)$ coordinates of the data points, `estimationPoint` is the point to be estimated. `grades` stores the grade values for the data points."
   ]
  },
  {
   "cell_type": "code",
   "execution_count": 2,
   "id": "c0205631",
   "metadata": {},
   "outputs": [],
   "source": [
    "points = [np.array([75, 50]), np.array([75, -75])]\n",
    "estimationPoint = np.array([0, 0])\n",
    "\n",
    "grades = np.array([0.87, 1.72])\n",
    "\n",
    "globalVariance = 0.2\n",
    "mean = 1.3"
   ]
  },
  {
   "cell_type": "markdown",
   "id": "c98117f0",
   "metadata": {},
   "source": [
    "Then I define a function to calculate the distance between two points and use it to calculate both the distance between the data points and the estimation point and store then in the vector `h`, and the distance between the data points and store then in the matrix `H`."
   ]
  },
  {
   "cell_type": "code",
   "execution_count": 3,
   "id": "41720bd2",
   "metadata": {
    "scrolled": true
   },
   "outputs": [
    {
     "name": "stdout",
     "output_type": "stream",
     "text": [
      "h = \n",
      " [ 90.13878189 106.06601718]\n",
      "H = \n",
      " [[  0. 125.]\n",
      " [125.   0.]]\n"
     ]
    }
   ],
   "source": [
    "def distanceBetweenPoints (a, b):\n",
    "    return np.sqrt((a[0] - b[0])**2 + (a[1] - b[1])**2)\n",
    "\n",
    "h = np.zeros(2)\n",
    "H = np.zeros((2, 2))\n",
    "\n",
    "h[0] = distanceBetweenPoints(estimationPoint, points[0])\n",
    "h[1] = distanceBetweenPoints(estimationPoint, points[1])\n",
    "\n",
    "H[0, 0] = distanceBetweenPoints(points[0], points[0])\n",
    "H[1, 1] = distanceBetweenPoints(points[1], points[1])\n",
    "H[1, 0] = distanceBetweenPoints(points[1], points[0])\n",
    "H[0, 1] = distanceBetweenPoints(points[0], points[1])\n",
    "\n",
    "print(\"h = \\n\", h)\n",
    "print(\"H = \\n\",H)"
   ]
  },
  {
   "cell_type": "markdown",
   "id": "1fd258a5",
   "metadata": {},
   "source": [
    "Then I define the function for the covariance"
   ]
  },
  {
   "cell_type": "code",
   "execution_count": 4,
   "id": "4f5bdcca",
   "metadata": {},
   "outputs": [],
   "source": [
    "def covarianceFunction(h):\n",
    "    return np.exp(-3. * h/250.)"
   ]
  },
  {
   "cell_type": "markdown",
   "id": "7cd4b550",
   "metadata": {},
   "source": [
    "Then I define the covariance of the data points matrix `C_ij` by using covariance function on matrix `H`, and the covariance of data points in relation to the estimation points vector `C_i0` doing the same on the vector `h`."
   ]
  },
  {
   "cell_type": "code",
   "execution_count": 5,
   "id": "51619b72",
   "metadata": {
    "scrolled": true
   },
   "outputs": [
    {
     "name": "stdout",
     "output_type": "stream",
     "text": [
      "C_ij = \n",
      " [[1.         0.22313016]\n",
      " [0.22313016 1.        ]]\n",
      "C_i0 = \n",
      " [0.33903044 0.28004858]\n"
     ]
    }
   ],
   "source": [
    "c_i0 = covarianceFunction(h)\n",
    "C_ij = covarianceFunction(H)\n",
    "\n",
    "print(\"C_ij = \\n\", C_ij)\n",
    "print(\"C_i0 = \\n\", c_i0)"
   ]
  },
  {
   "cell_type": "markdown",
   "id": "a80edfe1",
   "metadata": {},
   "source": [
    "To find the weights I simply have to solve the linear system $\\mathbf{C_{ij} \\lambda = c_{i0}}$."
   ]
  },
  {
   "cell_type": "code",
   "execution_count": 6,
   "id": "1a6b1be2",
   "metadata": {
    "scrolled": false
   },
   "outputs": [
    {
     "name": "stdout",
     "output_type": "stream",
     "text": [
      "weights =  [0.29103283 0.21511037]\n"
     ]
    }
   ],
   "source": [
    "weights = np.linalg.solve(C_ij, c_i0)\n",
    "print(\"weights = \",weights)"
   ]
  },
  {
   "cell_type": "markdown",
   "id": "6c65bd4b",
   "metadata": {},
   "source": [
    "Since $y(u) = Z(u) - m$, in which $m$ is the global mean, $Z(u)$ the grade, I have to subtract from the grades the mean and then add the mean again for the estimate."
   ]
  },
  {
   "cell_type": "code",
   "execution_count": 7,
   "id": "45679baf",
   "metadata": {},
   "outputs": [
    {
     "name": "stdout",
     "output_type": "stream",
     "text": [
      "estimate =  1.2652022413568829\n"
     ]
    }
   ],
   "source": [
    "estimate = np.dot(grades-mean, weights)+mean\n",
    "print(\"estimate = \", estimate)"
   ]
  },
  {
   "cell_type": "markdown",
   "id": "47bce38c",
   "metadata": {},
   "source": [
    "Since $\\sigma_E^2 = \\mathrm{E}\\left\\{ [y^*(u) - y(u)]^2 \\right\\}$, I decided to calculate the variance of the estimate using this."
   ]
  },
  {
   "cell_type": "code",
   "execution_count": 18,
   "id": "47b693b4",
   "metadata": {},
   "outputs": [
    {
     "name": "stdout",
     "output_type": "stream",
     "text": [
      "simple krigging variance of estimate =  0.18151290642015344\n"
     ]
    }
   ],
   "source": [
    "variance = ((estimate - grades)**2).mean()\n",
    "print(\"simple krigging variance of estimate = \", variance)"
   ]
  }
 ],
 "metadata": {
  "kernelspec": {
   "display_name": "Python 3",
   "language": "python",
   "name": "python3"
  },
  "language_info": {
   "codemirror_mode": {
    "name": "ipython",
    "version": 3
   },
   "file_extension": ".py",
   "mimetype": "text/x-python",
   "name": "python",
   "nbconvert_exporter": "python",
   "pygments_lexer": "ipython3",
   "version": "3.10.7"
  }
 },
 "nbformat": 4,
 "nbformat_minor": 5
}
