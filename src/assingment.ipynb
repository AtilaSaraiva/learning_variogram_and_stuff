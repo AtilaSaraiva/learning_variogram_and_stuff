{
 "cells": [
  {
   "cell_type": "code",
   "execution_count": 1,
   "id": "7610c5f3",
   "metadata": {},
   "outputs": [],
   "source": [
    "import numpy as np\n",
    "from matplotlib import pyplot as plt"
   ]
  },
  {
   "cell_type": "code",
   "execution_count": 2,
   "id": "c347f403",
   "metadata": {},
   "outputs": [
    {
     "name": "stdout",
     "output_type": "stream",
     "text": [
      "[[ 6.  0. 46.]\n",
      " [ 5.  0. 54.]\n",
      " [ 4.  0. 56.]\n",
      " [ 2.  0. 78.]\n",
      " [ 0.  0. 73.]\n",
      " [ 6.  1. 61.]\n",
      " [ 5.  1. 65.]\n",
      " [ 4.  1. 79.]\n",
      " [ 3.  1. 66.]\n",
      " [ 2.  1. 79.]\n",
      " [ 1.  1. 69.]\n",
      " [ 0.  1. 71.]\n",
      " [ 6.  2. 71.]\n",
      " [ 4.  2. 88.]\n",
      " [ 3.  2. 74.]\n",
      " [ 2.  2. 73.]\n",
      " [ 1.  2. 60.]\n",
      " [ 0.  2. 49.]\n",
      " [ 6.  3. 78.]\n",
      " [ 5.  3. 86.]\n",
      " [ 4.  3. 82.]\n",
      " [ 3.  3. 75.]\n",
      " [ 2.  3. 70.]\n",
      " [ 0.  3. 56.]\n",
      " [ 6.  4. 88.]\n",
      " [ 5.  4. 69.]\n",
      " [ 4.  4. 73.]\n",
      " [ 3.  4. 69.]\n",
      " [ 2.  4. 63.]\n",
      " [ 1.  4. 49.]\n",
      " [ 0.  4. 53.]\n",
      " [ 6.  5. 86.]\n",
      " [ 5.  5. 57.]\n",
      " [ 4.  5. 67.]\n",
      " [ 3.  5. 63.]\n",
      " [ 2.  5. 61.]\n",
      " [ 1.  5. 53.]\n",
      " [ 0.  5. 59.]\n",
      " [ 6.  6. 67.]\n",
      " [ 5.  6. 71.]\n",
      " [ 3.  6. 56.]\n",
      " [ 2.  6. 55.]\n",
      " [ 1.  6. 61.]\n",
      " [ 0.  6. 65.]\n",
      " [ 6.  7. 48.]\n",
      " [ 5.  7. 44.]\n",
      " [ 4.  7. 57.]\n",
      " [ 2.  7. 64.]\n",
      " [ 1.  7. 43.]\n",
      " [ 0.  7. 74.]\n",
      " [ 5.  8. 62.]\n",
      " [ 4.  8. 72.]\n",
      " [ 3.  8. 75.]\n",
      " [ 2.  8. 74.]\n",
      " [ 1.  8. 70.]\n",
      " [ 0.  8. 59.]\n",
      " [ 6.  9. 64.]\n",
      " [ 5.  9. 75.]\n",
      " [ 4.  9. 87.]\n",
      " [ 3.  9. 91.]\n",
      " [ 2.  9. 85.]\n",
      " [ 1.  9. 79.]\n",
      " [ 0.  9. 77.]]\n"
     ]
    }
   ],
   "source": [
    "numberOfSamples = 7*10-7\n",
    "\n",
    "with open(\"../data/input.dat\", \"r\") as arq:\n",
    "    A = np.loadtxt(arq, delimiter=\",\")\n",
    "\n",
    "print(A)"
   ]
  },
  {
   "cell_type": "code",
   "execution_count": 3,
   "id": "6f85339f",
   "metadata": {},
   "outputs": [],
   "source": [
    "def plotMat(A):\n",
    "    fig, ax = plt.subplots()\n",
    "    ax.scatter(A[:,1], A[:,0])\n",
    "    plt.show()"
   ]
  },
  {
   "cell_type": "code",
   "execution_count": 4,
   "id": "a8a7a486",
   "metadata": {
    "scrolled": false
   },
   "outputs": [
    {
     "data": {
      "image/png": "[encoded data removed]",
      "text/plain": [
       "<Figure size 640x480 with 1 Axes>"
      ]
     },
     "metadata": {},
     "output_type": "display_data"
    }
   ],
   "source": [
    "plotMat(A)"
   ]
  },
  {
   "cell_type": "code",
   "execution_count": 5,
   "id": "901073ad",
   "metadata": {},
   "outputs": [],
   "source": [
    "def parallelLines(x_pos, y_pos, x, h, theta):\n",
    "    theta_aux = theta * np.pi /180\n",
    "    upperBound = (x - x_pos + h/np.cos(theta_aux))*np.tan(theta_aux) + y_pos\n",
    "    lowerBound = (x - x_pos - h/np.cos(theta_aux))*np.tan(theta_aux) + y_pos\n",
    "    return lowerBound, upperBound\n",
    "\n",
    "def test_parallelLines():\n",
    "    x = 1\n",
    "    h = 0.5\n",
    "    theta = 45\n",
    "    x_pos = 0\n",
    "    y_pos = 0\n",
    "    lowerBound, upperBound = parallelLines(x_pos, y_pos, x, h, theta)\n",
    "    assert lowerBound < upperBound\n",
    "    assert upperBound < 2\n",
    "    assert lowerBound > 0\n",
    "    \n",
    "test_parallelLines()"
   ]
  },
  {
   "cell_type": "code",
   "execution_count": 19,
   "id": "1fbefdea",
   "metadata": {},
   "outputs": [
    {
     "name": "stdout",
     "output_type": "stream",
     "text": [
      "[69. 73. 75. 73. 57. 67.]\n"
     ]
    }
   ],
   "source": [
    "def getSamplesInDirection(A, x_pos, y_pos, direction, tolerance=0.5):\n",
    "    B = []\n",
    "    for y, x, i in zip(A[:,0], A[:,1], range(A.shape[0])):\n",
    "        lowerBound, upperBound = parallelLines(x_pos, y_pos, x, tolerance, direction)\n",
    "        if y > lowerBound and y < upperBound and x > x_pos:\n",
    "            B.append(list(A[i, :]))\n",
    "            \n",
    "    return np.array(B)\n",
    "     \n",
    "def test_getSamplesInDirection():\n",
    "    B = getSamplesInDirection(A, 0, 0, 45)\n",
    "    \n",
    "    np.all(B[:,2] - np.array([69, 73, 75, 73, 57, 67]))\n",
    "\n",
    "    print(B[:,2])\n",
    "    \n",
    "test_getSamplesInDirection()"
   ]
  },
  {
   "cell_type": "code",
   "execution_count": 17,
   "id": "4c179f14",
   "metadata": {},
   "outputs": [
    {
     "name": "stdout",
     "output_type": "stream",
     "text": [
      "[69. 71.]\n"
     ]
    }
   ],
   "source": [
    "def getSamplesInsideLag(A, x_pos, y_pos, lag, tolerance=0.5):\n",
    "    upperBound = (lag + tolerance)**2\n",
    "    lowerBound = (lag - tolerance)**2\n",
    "    B = []\n",
    "    for y, x, i in zip(A[:,0], A[:,1], range(A.shape[0])):\n",
    "        value = (x-x_pos)**2 + (y-y_pos)**2\n",
    "        if value <= upperBound and value >= lowerBound:\n",
    "            B.append(list(A[i, :]))\n",
    "            \n",
    "    return np.array(B)\n",
    "\n",
    "def test_getSamplesInsideLag():\n",
    "    B = getSamplesInsideLag(A, 0, 0, np.sqrt(2), 0.5)\n",
    "    \n",
    "    np.all(B[:,2] - np.array([69, 71]))\n",
    "    print(B[:,2])\n",
    "    \n",
    "test_getSamplesInsideLag()"
   ]
  },
  {
   "cell_type": "code",
   "execution_count": 50,
   "id": "b1fad9a4",
   "metadata": {},
   "outputs": [
    {
     "name": "stdout",
     "output_type": "stream",
     "text": [
      "[[54.         61.          1.41421356]\n",
      " [56.         65.          1.41421356]\n",
      " [56.         71.          2.82842712]\n",
      " [78.         66.          1.41421356]\n",
      " [78.         88.          2.82842712]\n",
      " [78.         86.          4.24264069]\n",
      " [73.         69.          1.41421356]\n",
      " [73.         73.          2.82842712]\n",
      " [73.         75.          4.24264069]\n",
      " [65.         71.          1.41421356]\n",
      " [79.         78.          2.82842712]\n",
      " [66.         88.          1.41421356]\n",
      " [66.         86.          2.82842712]\n",
      " [66.         88.          4.24264069]\n",
      " [79.         74.          1.41421356]\n",
      " [79.         82.          2.82842712]\n",
      " [79.         69.          4.24264069]\n",
      " [69.         73.          1.41421356]\n",
      " [69.         75.          2.82842712]\n",
      " [69.         73.          4.24264069]\n",
      " [71.         60.          1.41421356]\n",
      " [71.         70.          2.82842712]\n",
      " [71.         69.          4.24264069]\n",
      " [88.         86.          1.41421356]\n",
      " [88.         88.          2.82842712]\n",
      " [74.         82.          1.41421356]\n",
      " [74.         69.          2.82842712]\n",
      " [74.         86.          4.24264069]\n",
      " [73.         75.          1.41421356]\n",
      " [73.         73.          2.82842712]\n",
      " [73.         57.          4.24264069]\n",
      " [60.         70.          1.41421356]\n",
      " [60.         69.          2.82842712]\n",
      " [60.         67.          4.24264069]\n",
      " [49.         63.          2.82842712]\n",
      " [49.         63.          4.24264069]\n",
      " [86.         88.          1.41421356]\n",
      " [82.         69.          1.41421356]\n",
      " [82.         86.          2.82842712]\n",
      " [75.         73.          1.41421356]\n",
      " [75.         57.          2.82842712]\n",
      " [75.         67.          4.24264069]\n",
      " [70.         69.          1.41421356]\n",
      " [70.         67.          2.82842712]\n",
      " [70.         71.          4.24264069]\n",
      " [56.         49.          1.41421356]\n",
      " [56.         61.          2.82842712]\n",
      " [56.         56.          4.24264069]\n",
      " [69.         86.          1.41421356]\n",
      " [73.         57.          1.41421356]\n",
      " [73.         67.          2.82842712]\n",
      " [69.         67.          1.41421356]\n",
      " [69.         71.          2.82842712]\n",
      " [69.         48.          4.24264069]\n",
      " [63.         63.          1.41421356]\n",
      " [63.         44.          4.24264069]\n",
      " [49.         61.          1.41421356]\n",
      " [49.         56.          2.82842712]\n",
      " [49.         57.          4.24264069]\n",
      " [53.         53.          1.41421356]\n",
      " [53.         55.          2.82842712]\n",
      " [57.         67.          1.41421356]\n",
      " [67.         71.          1.41421356]\n",
      " [67.         48.          2.82842712]\n",
      " [63.         44.          2.82842712]\n",
      " [61.         56.          1.41421356]\n",
      " [61.         57.          2.82842712]\n",
      " [61.         62.          4.24264069]\n",
      " [53.         55.          1.41421356]\n",
      " [53.         72.          4.24264069]\n",
      " [59.         61.          1.41421356]\n",
      " [59.         64.          2.82842712]\n",
      " [59.         75.          4.24264069]\n",
      " [71.         48.          1.41421356]\n",
      " [56.         57.          1.41421356]\n",
      " [56.         62.          2.82842712]\n",
      " [56.         64.          4.24264069]\n",
      " [55.         72.          2.82842712]\n",
      " [55.         75.          4.24264069]\n",
      " [61.         64.          1.41421356]\n",
      " [61.         75.          2.82842712]\n",
      " [61.         87.          4.24264069]\n",
      " [65.         43.          1.41421356]\n",
      " [65.         74.          2.82842712]\n",
      " [65.         91.          4.24264069]\n",
      " [57.         62.          1.41421356]\n",
      " [57.         64.          2.82842712]\n",
      " [64.         75.          1.41421356]\n",
      " [64.         87.          2.82842712]\n",
      " [43.         74.          1.41421356]\n",
      " [43.         91.          2.82842712]\n",
      " [74.         70.          1.41421356]\n",
      " [74.         85.          2.82842712]\n",
      " [62.         64.          1.41421356]\n",
      " [72.         75.          1.41421356]\n",
      " [75.         87.          1.41421356]\n",
      " [74.         91.          1.41421356]\n",
      " [70.         85.          1.41421356]\n",
      " [59.         79.          1.41421356]]\n"
     ]
    }
   ],
   "source": [
    "def getPairOfPoints(A,direction, lag, maxLags=4):\n",
    "    \"\"\"\n",
    "    Function to get the various pairs of points for each lag in a specific direction\n",
    "    \n",
    "    Arguments:\n",
    "        - A: 2D numpy array\n",
    "        - direction: a angle, multiple of 45 degrees\n",
    "    \"\"\"\n",
    "\n",
    "    pairs = [[],\n",
    "    for y_pos, x_pos, value in zip(A[:,0], A[:,1], A[:,2]):\n",
    "        samplesInDirection = getSamplesInDirection(A, x_pos, y_pos, direction)\n",
    "        if len(samplesInDirection) > 0:\n",
    "            for lag_multiplier in range(maxLags):\n",
    "                actual_lag = lag * lag_multiplier\n",
    "                samplesInsideLag = getSamplesInsideLag(samplesInDirection, x_pos, y_pos, actual_lag)\n",
    "                for point in samplesInsideLag:\n",
    "                    tail = value\n",
    "                    head = point[2]\n",
    "                    pair = [tail, head, actual_lag]\n",
    "                    pairs.append(pair)\n",
    "                    \n",
    "    return np.array(pairs)\n",
    "\n",
    "pairs = getPairOfPoints(A,45,np.sqrt(2))\n",
    "\n",
    "print(pairs)"
   ]
  }
 ],
 "metadata": {
  "kernelspec": {
   "display_name": "Python 3",
   "language": "python",
   "name": "python3"
  },
  "language_info": {
   "codemirror_mode": {
    "name": "ipython",
    "version": 3
   },
   "file_extension": ".py",
   "mimetype": "text/x-python",
   "name": "python",
   "nbconvert_exporter": "python",
   "pygments_lexer": "ipython3",
   "version": "3.10.7"
  }
 },
 "nbformat": 4,
 "nbformat_minor": 5
}
