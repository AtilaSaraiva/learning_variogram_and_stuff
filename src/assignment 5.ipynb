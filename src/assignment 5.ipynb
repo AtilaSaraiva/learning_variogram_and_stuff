{
 "cells": [
  {
   "cell_type": "code",
   "execution_count": 1,
   "id": "971968fb",
   "metadata": {},
   "outputs": [],
   "source": [
    "import numpy as np\n",
    "from matplotlib import pyplot as plt"
   ]
  },
  {
   "cell_type": "code",
   "execution_count": 5,
   "id": "7e110343",
   "metadata": {
    "scrolled": false
   },
   "outputs": [
    {
     "data": {
      "text/plain": [
       "<matplotlib.image.AxesImage at 0x7f26a6d87b50>"
      ]
     },
     "execution_count": 5,
     "metadata": {},
     "output_type": "execute_result"
    },
    {
     "data": {
      "image/png": "[encoded data removed]",
      "text/plain": [
       "<Figure size 480x480 with 1 Axes>"
      ]
     },
     "metadata": {},
     "output_type": "display_data"
    }
   ],
   "source": [
    "with open(\"../data/variogram_map.dat\", \"r\") as arq:\n",
    "    varmap = np.loadtxt(arq, delimiter=\",\")\n",
    "\n",
    "plt.matshow(varmap, cmap=\"rainbow\")"
   ]
  },
  {
   "cell_type": "code",
   "execution_count": 13,
   "id": "4b1066d6",
   "metadata": {},
   "outputs": [],
   "source": [
    "def center(varmap):\n",
    "    M, N = varmap.shape\n",
    "    return M//2, N//2\n",
    "\n",
    "def test_center(varmap):\n",
    "    i, j = center(varmap)\n",
    "    varmap[i,j] == 0.2\n",
    "    \n",
    "test_center(varmap)"
   ]
  },
  {
   "cell_type": "code",
   "execution_count": 25,
   "id": "469dc51b",
   "metadata": {
    "scrolled": true
   },
   "outputs": [],
   "source": [
    "def getVariogramByAngle(varmap, angle):\n",
    "    i_c, j_c = center(varmap)\n",
    "    M, N = varmap.shape\n",
    "    \n",
    "    if angle == 45:\n",
    "        numLags = min(M-i_c+1,N-j_c)\n",
    "        variogramValues = np.zeros(numLags)\n",
    "    \n",
    "        for i in range(numLags):\n",
    "            variogramValues[i] = varmap[i_c-i, j_c+i]\n",
    "    elif angle == -45:\n",
    "        numLags = min(i_c+1,j_c+1)\n",
    "        variogramValues = np.zeros(numLags)\n",
    "    \n",
    "        for i in range(numLags):\n",
    "            variogramValues[i] = varmap[i_c-i, j_c-i]\n",
    "            \n",
    "    return variogramValues\n",
    "\n",
    "def test_getVariogramByAngle(varmap):\n",
    "    np.all(getVariogramByAngle(varmap, angle=45) == np.array([0.2, 0.49, 0.88, 0.95]))\n",
    "    np.all(getVariogramByAngle(varmap, angle=-45) == np.array([0.2, 0.8, 1.24, 1.14]))\n",
    "\n",
    "test_getVariogramByAngle(varmap)"
   ]
  }
 ],
 "metadata": {
  "kernelspec": {
   "display_name": "Python 3",
   "language": "python",
   "name": "python3"
  },
  "language_info": {
   "codemirror_mode": {
    "name": "ipython",
    "version": 3
   },
   "file_extension": ".py",
   "mimetype": "text/x-python",
   "name": "python",
   "nbconvert_exporter": "python",
   "pygments_lexer": "ipython3",
   "version": "3.10.7"
  }
 },
 "nbformat": 4,
 "nbformat_minor": 5
}
