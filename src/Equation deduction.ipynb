{
 "cells": [
  {
   "cell_type": "code",
   "execution_count": 1,
   "id": "f9656348",
   "metadata": {},
   "outputs": [],
   "source": [
    "from sympy import *\n",
    "from sympy.solvers.solveset import solveset, solveset_real\n",
    "\n",
    "theta, x, y, h = symbols(\"theta x y h\")"
   ]
  },
  {
   "cell_type": "code",
   "execution_count": 2,
   "id": "adf3526f",
   "metadata": {},
   "outputs": [
    {
     "name": "stdout",
     "output_type": "stream",
     "text": [
      "            2   ⎛            2               2⎞       \n",
      "⎛  h       ⎞    ⎜⎛  h       ⎞    ⎛  h       ⎞ ⎟       \n",
      "⎜────── + y⎟  = ⎜⎜────── + y⎟  + ⎜────── + x⎟ ⎟⋅sin(θ)\n",
      "⎝sin(θ)    ⎠    ⎝⎝sin(θ)    ⎠    ⎝cos(θ)    ⎠ ⎠       \n",
      "            2   ⎛            2               2⎞       \n",
      "⎛  h       ⎞    ⎜⎛  h       ⎞    ⎛  h       ⎞ ⎟       \n",
      "⎜────── + x⎟  = ⎜⎜────── + y⎟  + ⎜────── + x⎟ ⎟⋅cos(θ)\n",
      "⎝cos(θ)    ⎠    ⎝⎝sin(θ)    ⎠    ⎝cos(θ)    ⎠ ⎠       \n"
     ]
    }
   ],
   "source": [
    "eq1 = []\n",
    "eq1.append(Eq((y+h/sin(theta))**2, ( (x+h/cos(theta))**2 + (y+h/sin(theta))**2 ) * sin(theta)))\n",
    "eq1.append(Eq((x+h/cos(theta))**2, ( (x+h/cos(theta))**2 + (y+h/sin(theta))**2 ) * cos(theta)))\n",
    "pprint(eq1[0])\n",
    "pprint(eq1[1])"
   ]
  },
  {
   "cell_type": "code",
   "execution_count": 14,
   "id": "a8c1914a",
   "metadata": {},
   "outputs": [
    {
     "data": {
      "text/latex": [
       "$\\displaystyle \\mathbb{R} \\cap \\left\\{- \\frac{\\sqrt{- \\left(\\sin{\\left(\\theta \\right)} - \\cos^{2}{\\left(\\theta \\right)}\\right) \\left(x^{2} \\sin{\\left(\\theta \\right)} + y^{2} \\sin{\\left(\\theta \\right)} - y^{2}\\right) + \\frac{\\left(2 x \\sin^{2}{\\left(\\theta \\right)} + y \\sin{\\left(2 \\theta \\right)} - 2 y \\cos{\\left(\\theta \\right)}\\right)^{2}}{4}} \\sin{\\left(\\theta \\right)} \\cos{\\left(\\theta \\right)}}{- \\sin^{3}{\\left(\\theta \\right)} - \\sin{\\left(\\theta \\right)} \\cos^{2}{\\left(\\theta \\right)} + \\cos^{2}{\\left(\\theta \\right)}} + \\frac{\\left(- x \\sin^{2}{\\left(\\theta \\right)} - \\frac{y \\sin{\\left(2 \\theta \\right)}}{2} + y \\cos{\\left(\\theta \\right)}\\right) \\sin{\\left(\\theta \\right)} \\cos{\\left(\\theta \\right)}}{\\sin{\\left(\\theta \\right)} - \\cos^{2}{\\left(\\theta \\right)}}, \\frac{\\sqrt{- \\left(\\sin{\\left(\\theta \\right)} - \\cos^{2}{\\left(\\theta \\right)}\\right) \\left(x^{2} \\sin{\\left(\\theta \\right)} + y^{2} \\sin{\\left(\\theta \\right)} - y^{2}\\right) + \\frac{\\left(2 x \\sin^{2}{\\left(\\theta \\right)} + y \\sin{\\left(2 \\theta \\right)} - 2 y \\cos{\\left(\\theta \\right)}\\right)^{2}}{4}} \\sin{\\left(\\theta \\right)} \\cos{\\left(\\theta \\right)}}{- \\sin^{3}{\\left(\\theta \\right)} - \\sin{\\left(\\theta \\right)} \\cos^{2}{\\left(\\theta \\right)} + \\cos^{2}{\\left(\\theta \\right)}} + \\frac{\\left(- x \\sin^{2}{\\left(\\theta \\right)} - \\frac{y \\sin{\\left(2 \\theta \\right)}}{2} + y \\cos{\\left(\\theta \\right)}\\right) \\sin{\\left(\\theta \\right)} \\cos{\\left(\\theta \\right)}}{\\sin{\\left(\\theta \\right)} - \\cos^{2}{\\left(\\theta \\right)}}\\right\\}$"
      ],
      "text/plain": [
       "Intersection({-sqrt(-(sin(theta) - cos(theta)**2)*(x**2*sin(theta) + y**2*sin(theta) - y**2) + (2*x*sin(theta)**2 + y*sin(2*theta) - 2*y*cos(theta))**2/4)*sin(theta)*cos(theta)/(-sin(theta)**3 - sin(theta)*cos(theta)**2 + cos(theta)**2) + (-x*sin(theta)**2 - y*sin(2*theta)/2 + y*cos(theta))*sin(theta)*cos(theta)/(sin(theta) - cos(theta)**2), sqrt(-(sin(theta) - cos(theta)**2)*(x**2*sin(theta) + y**2*sin(theta) - y**2) + (2*x*sin(theta)**2 + y*sin(2*theta) - 2*y*cos(theta))**2/4)*sin(theta)*cos(theta)/(-sin(theta)**3 - sin(theta)*cos(theta)**2 + cos(theta)**2) + (-x*sin(theta)**2 - y*sin(2*theta)/2 + y*cos(theta))*sin(theta)*cos(theta)/(sin(theta) - cos(theta)**2)}, Reals)"
      ]
     },
     "execution_count": 14,
     "metadata": {},
     "output_type": "execute_result"
    }
   ],
   "source": [
    "eq2 = []\n",
    "eq2.append(simplify(solveset_real(eq1[0], h)))\n",
    "eq2[0]"
   ]
  },
  {
   "cell_type": "code",
   "execution_count": 15,
   "id": "29e120be",
   "metadata": {},
   "outputs": [
    {
     "data": {
      "text/latex": [
       "$\\displaystyle \\mathbb{R} \\cap \\left\\{- \\frac{\\sqrt{- \\left(- \\sin^{2}{\\left(\\theta \\right)} + \\cos{\\left(\\theta \\right)}\\right) \\left(x^{2} \\cos{\\left(\\theta \\right)} - x^{2} + y^{2} \\cos{\\left(\\theta \\right)}\\right) + \\frac{\\left(- 2 x \\sin{\\left(\\theta \\right)} + x \\sin{\\left(2 \\theta \\right)} + 2 y \\cos^{2}{\\left(\\theta \\right)}\\right)^{2}}{4}} \\sin{\\left(\\theta \\right)} \\cos{\\left(\\theta \\right)}}{- \\sin^{2}{\\left(\\theta \\right)} \\cos{\\left(\\theta \\right)} + \\sin^{2}{\\left(\\theta \\right)} - \\cos^{3}{\\left(\\theta \\right)}} + \\frac{\\left(x \\sin{\\left(\\theta \\right)} - \\frac{x \\sin{\\left(2 \\theta \\right)}}{2} - y \\cos^{2}{\\left(\\theta \\right)}\\right) \\sin{\\left(\\theta \\right)} \\cos{\\left(\\theta \\right)}}{- \\sin^{2}{\\left(\\theta \\right)} + \\cos{\\left(\\theta \\right)}}, \\frac{\\sqrt{- \\left(- \\sin^{2}{\\left(\\theta \\right)} + \\cos{\\left(\\theta \\right)}\\right) \\left(x^{2} \\cos{\\left(\\theta \\right)} - x^{2} + y^{2} \\cos{\\left(\\theta \\right)}\\right) + \\frac{\\left(- 2 x \\sin{\\left(\\theta \\right)} + x \\sin{\\left(2 \\theta \\right)} + 2 y \\cos^{2}{\\left(\\theta \\right)}\\right)^{2}}{4}} \\sin{\\left(\\theta \\right)} \\cos{\\left(\\theta \\right)}}{- \\sin^{2}{\\left(\\theta \\right)} \\cos{\\left(\\theta \\right)} + \\sin^{2}{\\left(\\theta \\right)} - \\cos^{3}{\\left(\\theta \\right)}} + \\frac{\\left(x \\sin{\\left(\\theta \\right)} - \\frac{x \\sin{\\left(2 \\theta \\right)}}{2} - y \\cos^{2}{\\left(\\theta \\right)}\\right) \\sin{\\left(\\theta \\right)} \\cos{\\left(\\theta \\right)}}{- \\sin^{2}{\\left(\\theta \\right)} + \\cos{\\left(\\theta \\right)}}\\right\\}$"
      ],
      "text/plain": [
       "Intersection({-sqrt(-(-sin(theta)**2 + cos(theta))*(x**2*cos(theta) - x**2 + y**2*cos(theta)) + (-2*x*sin(theta) + x*sin(2*theta) + 2*y*cos(theta)**2)**2/4)*sin(theta)*cos(theta)/(-sin(theta)**2*cos(theta) + sin(theta)**2 - cos(theta)**3) + (x*sin(theta) - x*sin(2*theta)/2 - y*cos(theta)**2)*sin(theta)*cos(theta)/(-sin(theta)**2 + cos(theta)), sqrt(-(-sin(theta)**2 + cos(theta))*(x**2*cos(theta) - x**2 + y**2*cos(theta)) + (-2*x*sin(theta) + x*sin(2*theta) + 2*y*cos(theta)**2)**2/4)*sin(theta)*cos(theta)/(-sin(theta)**2*cos(theta) + sin(theta)**2 - cos(theta)**3) + (x*sin(theta) - x*sin(2*theta)/2 - y*cos(theta)**2)*sin(theta)*cos(theta)/(-sin(theta)**2 + cos(theta))}, Reals)"
      ]
     },
     "execution_count": 15,
     "metadata": {},
     "output_type": "execute_result"
    }
   ],
   "source": [
    "eq2.append(simplify(solveset_real(eq1[1], h)))\n",
    "eq2[1]"
   ]
  },
  {
   "cell_type": "code",
   "execution_count": 17,
   "id": "0d829311",
   "metadata": {},
   "outputs": [
    {
     "data": {
      "text/plain": [
       "\"theta = Symbol('theta')\\nx = Symbol('x')\\ny = Symbol('y')\\ne = Intersection({-sqrt(-(sin(theta) - cos(theta)**2)*(x**2*sin(theta) + y**2*sin(theta) - y**2) + (2*x*sin(theta)**2 + y*sin(2*theta) - 2*y*cos(theta))**2/4)*sin(theta)*cos(theta)/(-sin(theta)**3 - sin(theta)*cos(theta)**2 + cos(theta)**2) + (-x*sin(theta)**2 - y*sin(2*theta)/2 + y*cos(theta))*sin(theta)*cos(theta)/(sin(theta) - cos(theta)**2), sqrt(-(sin(theta) - cos(theta)**2)*(x**2*sin(theta) + y**2*sin(theta) - y**2) + (2*x*sin(theta)**2 + y*sin(2*theta) - 2*y*cos(theta))**2/4)*sin(theta)*cos(theta)/(-sin(theta)**3 - sin(theta)*cos(theta)**2 + cos(theta)**2) + (-x*sin(theta)**2 - y*sin(2*theta)/2 + y*cos(theta))*sin(theta)*cos(theta)/(sin(theta) - cos(theta)**2)}, Reals)\""
      ]
     },
     "execution_count": 17,
     "metadata": {},
     "output_type": "execute_result"
    }
   ],
   "source": [
    "python(eq2[0])"
   ]
  }
 ],
 "metadata": {
  "kernelspec": {
   "display_name": "Python 3",
   "language": "python",
   "name": "python3"
  },
  "language_info": {
   "codemirror_mode": {
    "name": "ipython",
    "version": 3
   },
   "file_extension": ".py",
   "mimetype": "text/x-python",
   "name": "python",
   "nbconvert_exporter": "python",
   "pygments_lexer": "ipython3",
   "version": "3.10.7"
  }
 },
 "nbformat": 4,
 "nbformat_minor": 5
}
